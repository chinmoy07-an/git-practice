{
 "cells": [
  {
   "cell_type": "markdown",
   "metadata": {},
   "source": [
    "**HI EVERYONE**\n",
    "\n",
    "*Let's continue from where we left off*\n",
    "\n",
    "***VIGENERE CIPHER***\n",
    "\n",
    "*The Vigenère Cipher is a polyalphabetic substitution cipher, as opposed to the Caesar Cipher which was a monoalphabetic substitution cipher*\n",
    "\n",
    "*What this means is that opposed to having a single shift that is applied to every letter,the Vigenère Cipher has a different shift for each individual letter. The value of the shift for each letter is determined by a given keyword*\n",
    "\n",
    "Get more details on it : [Vigenere](https://en.wikipedia.org/wiki/Vigen%C3%A8re_cipher)\n",
    "\n",
    "Consider the message\n",
    "            \n",
    " **barry is the spy**\n",
    " \n",
    "If we want to code this message, first we choose a keyword. For this example, we'll use the keyword\n",
    "           \n",
    "  **dog**\n",
    "               \n",
    "Now we use the repeat the keyword over and over to generate a _keyword phrase_ that is the same length \n",
    "as the message we want to code.\n",
    "So if we want to code the message \"barry is the spy\" our _keyword phrase_ is \"dogdo gd ogd ogd\". \n",
    "Now we are ready to start coding our message.\n",
    "\n",
    "We shift the each letter of our message by the place value of the corresponding letter in the keyword phrase, \n",
    "assuming that \"a\" has a place value of 0,\n",
    "\"b\" has a place value of 1, and so forth. Remember, we zero-index because this is Python we're talking about!\n",
    "\n",
    "\n",
    " \n",
    "                         message:       b  a  r  r  y    i  s   t  h  e   s  p  y\n",
    "                 \n",
    "                  keyword phrase:       d  o  g  d  o    g  d   o  g  d   o  g  d\n",
    "                  \n",
    "           resulting place value:       4  14 15 12 16   24 11  21 25 22  22 17 5\n",
    "       \n",
    "So we shift \"b\", which has an index of 1, by the index of \"d\", which is 3.\n",
    "This gives us an place value of 4, which is \"e\". Then continue the trend: we shift \"a\" by the place value of \"o\", 14, and get \"o\" again,we shift \"r\" by the place value of \"g\", 15, and get \"x\", shift the next \"r\" by 12 places and \"u\", and so forth.\n",
    "Once we complete all the shifts we end up with our coded message:\n",
    "            \n",
    "                eoxum ov hnh gvb\n",
    "                \n",
    "*So you know it's quite difficult to code or decode it without the keyword*\n",
    "\n",
    "*Let's see how to do it*"
   ]
  },
  {
   "cell_type": "code",
   "execution_count": 17,
   "metadata": {},
   "outputs": [
    {
     "name": "stdout",
     "output_type": "stream",
     "text": [
      "eoxum ov hnh gvb\n"
     ]
    }
   ],
   "source": [
    "alphabet = 'abcdefghijklmnopqrstuvwxyz'\n",
    "punctuations = \".?'!, $%@#&*{}()[]~;:0123456789\"\n",
    "\n",
    "#First step is to generate the keyword phrase which is same as the message\n",
    "\n",
    "def coder(message, keyword):\n",
    "    messagel = message.lower()\n",
    "    keyword_final = ''\n",
    "    letter_pointer = 0\n",
    "    for i in range(0,len(messagel)):\n",
    "        if message[i] in punctuations:\n",
    "            keyword_final += messagel[i]\n",
    "        else:\n",
    "            keyword_final += keyword[letter_pointer]\n",
    "            letter_pointer = (letter_pointer + 1) % len(keyword)\n",
    "    #print(keyword_final)\n",
    " \n",
    "    #Next will be to combine the index of each character of keyword phrase and original message\n",
    "    translated_message = ''\n",
    "    for i in range(0,len(messagel)):\n",
    "        if messagel[i] not in punctuations:\n",
    "            translated_message += alphabet[(alphabet.find(messagel[i]) + alphabet.find(keyword_final[i])) % 26]\n",
    "            #print(translated_message)\n",
    "        else:\n",
    "            translated_message += messagel[i]\n",
    "            \n",
    "    return translated_message\n",
    "            \n",
    "    #print(translated_message)\n",
    "            \n",
    "            \n",
    "    \n",
    "    \n",
    "message_to_code = \"barry is the spy\"\n",
    "print(coder(message_to_code, \"dog\"))\n",
    "            "
   ]
  },
  {
   "cell_type": "markdown",
   "metadata": {},
   "source": [
    "***SO we completed the coder function let's check the decoder function***"
   ]
  },
  {
   "cell_type": "code",
   "execution_count": 24,
   "metadata": {},
   "outputs": [
    {
     "name": "stdout",
     "output_type": "stream",
     "text": [
      "barry is the spy\n"
     ]
    }
   ],
   "source": [
    "def decoder(message, keyword):\n",
    "    messagel = message.lower()\n",
    "    keyword_final = ''\n",
    "    letter_pointer = 0\n",
    "    for i in range(0,len(messagel)):\n",
    "        if message[i] in punctuations:\n",
    "            keyword_final += messagel[i]\n",
    "        else:\n",
    "            keyword_final += keyword[letter_pointer]\n",
    "            letter_pointer = (letter_pointer + 1) % len(keyword)\n",
    "    #print(keyword_final)\n",
    " \n",
    "    #Next will be to minus the index of each character of keyword phrase from original message\n",
    "    translated_message = ''\n",
    "    for i in range(0,len(messagel)):\n",
    "        if messagel[i] not in punctuations:\n",
    "            translated_message += alphabet[(alphabet.find(messagel[i]) - alphabet.find(keyword_final[i])) % 26]\n",
    "            #print(translated_message)\n",
    "        else:\n",
    "            translated_message += messagel[i]\n",
    "            \n",
    "    return translated_message\n",
    "            \n",
    "    #print(translated_message)\n",
    "            \n",
    "            \n",
    "    \n",
    "    \n",
    "message_to_code = \"eoxum ov hnh gvb\"\n",
    "print(decoder(message_to_code, \"dog\"))"
   ]
  },
  {
   "cell_type": "markdown",
   "metadata": {},
   "source": [
    "**Great work coding and decoding Vigenere cipher**\n",
    "\n",
    "*For example : try to decode this*\n",
    "\n",
    "message = \"dfc aruw fsti gr vjtwhr wznj? vmph otis! cbx swv jipreneo uhllj kpi rahjib eg fjdkwkedhmp!\"\n",
    "\n",
    "keyword = \"friends\"\n",
    "\n",
    "*Also try to code this one below*\n",
    "\n",
    "message_for_v = \"thanks for teaching me all these cool ciphers! you really are the best!\"\n",
    "\n",
    "keyword = \"besties\"\n",
    "\n",
    "***There are all types of other facinating ciphers out there to explore, and Python is the perfect language to implement them with, so go exploring!***\n",
    "\n",
    "Connect with me : [Linkedin](https://www.linkedin.com/in/chinmoy-anand-b56a4812b)\n",
    "\n",
    "THANKS!!!!!!"
   ]
  },
  {
   "cell_type": "code",
   "execution_count": null,
   "metadata": {},
   "outputs": [],
   "source": []
  }
 ],
 "metadata": {
  "kernelspec": {
   "display_name": "Python 3",
   "language": "python",
   "name": "python3"
  },
  "language_info": {
   "codemirror_mode": {
    "name": "ipython",
    "version": 3
   },
   "file_extension": ".py",
   "mimetype": "text/x-python",
   "name": "python",
   "nbconvert_exporter": "python",
   "pygments_lexer": "ipython3",
   "version": "3.7.9"
  }
 },
 "nbformat": 4,
 "nbformat_minor": 4
}
