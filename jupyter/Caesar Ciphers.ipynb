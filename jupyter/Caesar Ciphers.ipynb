{
 "cells": [
  {
   "cell_type": "markdown",
   "metadata": {},
   "source": [
    "**CODING AND DECODING MESSAGES**\n",
    "\n",
    "*ONLY FOR CRPTOGRAPHY ENTHUSIASTS...JUST KIDDING*\n",
    "\n",
    "**LET's TALK ABOUT CAESAR CIPHER**\n",
    "\n",
    "*one of the simplest and widely known encryption techniques*\n",
    "\n",
    "Get more information on caesar cipher : [CAESAR CIPHER](https://en.wikipedia.org/wiki/Caesar_cipher)\n",
    "\n",
    "Here's how it works: \n",
    "\n",
    "You take your message, something like \"hello\" and then you shift all of the letters by a certain offset.\n",
    "*For example, if I chose an offset of 3 and a message of \"hello\", I would code my message by shifting each letter 3 places to the left (with respect to the alphabet)*"
   ]
  },
  {
   "cell_type": "code",
   "execution_count": 17,
   "metadata": {},
   "outputs": [
    {
     "name": "stdout",
     "output_type": "stream",
     "text": [
      "Enter the coded  message: \n",
      "y belu oek!!\n",
      "Enter the key offset used: \n",
      "10\n",
      "i love you!!\n"
     ]
    }
   ],
   "source": [
    "#DECODING THE CAESAR CIPHER\n",
    "\n",
    "#import string\n",
    "\n",
    "alphabet = 'abcdefghijklmnopqrstuvwxyz'\n",
    "punctuations = \".?'!, $%@#&*{}()[]~;:0123456789\"\n",
    "print(\"Enter the coded  message: \")\n",
    "message = input()\n",
    "translated_message = \"\"\n",
    "print(\"Enter the key offset used: \")\n",
    "offset = int(input())\n",
    "\n",
    "for letter in message.lower():\n",
    "    if not letter in punctuations:\n",
    "        letter_value = alphabet.find(letter)\n",
    "        #print(\"The letter value is \",letter_value)\n",
    "        translated_message += alphabet[(letter_value + offset) % 26] \n",
    "        #print(\"The translated message is \", translated_message)\n",
    "    else:\n",
    "        translated_message += letter\n",
    "print(translated_message)"
   ]
  },
  {
   "cell_type": "markdown",
   "metadata": {},
   "source": [
    "***BRIEF EXAMPLE HOW MODULO % WORKS ON STRINGS***"
   ]
  },
  {
   "cell_type": "code",
   "execution_count": 16,
   "metadata": {},
   "outputs": [
    {
     "name": "stdout",
     "output_type": "stream",
     "text": [
      "23\n",
      "7\n",
      "h\n",
      "x\n",
      "a\n"
     ]
    }
   ],
   "source": [
    "alphabet = 'abcdefghijklmnopqrstuvwxyz'\n",
    "print(23 % 26)\n",
    "print((23+10) % 26)\n",
    "print(alphabet[7])\n",
    "print(alphabet[23])\n",
    "print(alphabet[0])"
   ]
  },
  {
   "cell_type": "code",
   "execution_count": 14,
   "metadata": {},
   "outputs": [
    {
     "name": "stdout",
     "output_type": "stream",
     "text": [
      "Enter your original message: \n",
      "I love you!!\n",
      "Enter the key offset to use: \n",
      "10\n",
      "y belu oek!!\n"
     ]
    }
   ],
   "source": [
    "#CODING THE CAESAR CIPHER \n",
    "\n",
    "alphabet = 'abcdefghijklmnopqrstuvwxyz'\n",
    "punctuations = \".?'!, $%@#&*{}()[]~;:0123456789\"\n",
    "print(\"Enter your original message: \")\n",
    "message = input()\n",
    "translated_message = \"\"\n",
    "print(\"Enter the key offset to use: \")\n",
    "offset = int(input())\n",
    "\n",
    "for letter in message.lower():\n",
    "    if not letter in punctuations:\n",
    "        letter_value = alphabet.find(letter)\n",
    "        #print(\"The letter value is \",letter_value)\n",
    "        translated_message += alphabet[(letter_value - offset) % 26] \n",
    "        #print(\"The translated message is \", translated_message)\n",
    "    else:\n",
    "        translated_message += letter\n",
    "print(translated_message)"
   ]
  },
  {
   "cell_type": "markdown",
   "metadata": {},
   "source": [
    "***NOW YOU AND YOUR BEST FRIEND LOVING IT***\n",
    "\n",
    "*so let's code it as functions*\n"
   ]
  },
  {
   "cell_type": "code",
   "execution_count": 29,
   "metadata": {},
   "outputs": [
    {
     "name": "stdout",
     "output_type": "stream",
     "text": [
      "Enter the message to code: hey There!!\n",
      "Enter the offset value: 23\n",
      "The coded message is : khb wkhuh!!\n"
     ]
    }
   ],
   "source": [
    "alphabet = 'abcdefghijklmnopqrstuvwxyz'\n",
    "punctuations = \".?'!, $%@#&*{}()[]~;:1234567890\"\n",
    "\n",
    "def decoder(message, offset):\n",
    "    translated_message = \"\"\n",
    "    for letter in message.lower():\n",
    "        if not letter in punctuations:\n",
    "            letter_value = alphabet.find(letter)\n",
    "            #print(\"The letter value is \",letter_value)\n",
    "            translated_message += alphabet[(letter_value + offset) % 26] \n",
    "            #print(\"The translated message is \", translated_message)\n",
    "        else:\n",
    "            translated_message += letter\n",
    "    return translated_message\n",
    "\n",
    "def coder(message, offset):\n",
    "    translated_message = \"\"\n",
    "    for letter in message.lower():\n",
    "        if not letter in punctuations:\n",
    "            letter_value = alphabet.find(letter)\n",
    "            #print(\"The letter value is \",letter_value)\n",
    "            translated_message += alphabet[(letter_value - offset) % 26] \n",
    "            #print(\"The translated message is \", translated_message)\n",
    "        else:\n",
    "            translated_message += letter\n",
    "    return translated_message\n",
    "\n",
    "#uncomment and comment the respectives on need\n",
    "\n",
    "message_to_coder = input(\"Enter the message to code: \")\n",
    "coder_offset = int(input(\"Enter the offset value: \"))\n",
    "\n",
    "print(\"The coded message is :\", coder(message_to_coder, coder_offset))\n",
    "\n",
    "#message_to_decoder = input(\"Enter the message to decode: \")\n",
    "#message_to_decoder = \"kag iagxp tmhq egdhuhqp ftmza'e ezmb !! xqf'e oqxqndmfq. oazzqof iuft yq uz xuzwqpuz mzp xqf'e pqoupq itqdq fa yqqf.\"\n",
    "#decoder_offset = int(input(\"Enter the offset value: \"))\n",
    "\n",
    "#print(\"The decoded message is :\", decoder(message_to_decoder, decoder_offset))\n",
    "\n",
    "#let's continue some fun\n",
    "#Decode this to get a critical Tip for next message\n",
    "#jxu evviuj veh jxu iusedt cuiiqwu yi vekhjuud.\n",
    "\n",
    "#Now decode this using the Tip you got\n",
    "#kag iagxp tmhq egdhuhqp ftmza'e ezmb !! xqf'e oqxqndmfq. oazzqof iuft yq uz xuzwqpuz mzp xqf'e pqoupq itqdq fa yqqf.\n",
    "\n",
    "\n",
    "\n",
    "    "
   ]
  },
  {
   "cell_type": "markdown",
   "metadata": {},
   "source": [
    "***Now this seems easy if one know's the offset or shift value***\n",
    "\n",
    "*Did you know that back in Caesar's time, it was considered a very secure way of communication and it took a lot of effort to crack if you were unaware of the value of the shift?*\n",
    "\n",
    "**But that's all changed with computers**\n",
    "\n",
    "Now let's see how we can solve the encrypted message without knowing the shift\n",
    "\n",
    "**The easiest way to break this code is to simply brute force though all of the possible shifts.**\n",
    "We'll only need to try 25 different shifts, so it's not computationally expensive. \n",
    "Then we can look through all of the outputs and look for the one that in english, and we've decoded our message!"
   ]
  },
  {
   "cell_type": "code",
   "execution_count": 31,
   "metadata": {},
   "outputs": [
    {
     "name": "stdout",
     "output_type": "stream",
     "text": [
      "Offset :  1\n",
      "The decoded message is : nihs mnule musm : fipy sio 3000!!\n",
      "Offset :  2\n",
      "The decoded message is : ojit novmf nvtn : gjqz tjp 3000!!\n",
      "Offset :  3\n",
      "The decoded message is : pkju opwng owuo : hkra ukq 3000!!\n",
      "Offset :  4\n",
      "The decoded message is : qlkv pqxoh pxvp : ilsb vlr 3000!!\n",
      "Offset :  5\n",
      "The decoded message is : rmlw qrypi qywq : jmtc wms 3000!!\n",
      "Offset :  6\n",
      "The decoded message is : snmx rszqj rzxr : knud xnt 3000!!\n",
      "Offset :  7\n",
      "The decoded message is : tony stark says : love you 3000!!\n",
      "Offset :  8\n",
      "The decoded message is : upoz tubsl tbzt : mpwf zpv 3000!!\n",
      "Offset :  9\n",
      "The decoded message is : vqpa uvctm ucau : nqxg aqw 3000!!\n",
      "Offset :  10\n",
      "The decoded message is : wrqb vwdun vdbv : oryh brx 3000!!\n",
      "Offset :  11\n",
      "The decoded message is : xsrc wxevo wecw : pszi csy 3000!!\n",
      "Offset :  12\n",
      "The decoded message is : ytsd xyfwp xfdx : qtaj dtz 3000!!\n",
      "Offset :  13\n",
      "The decoded message is : zute yzgxq ygey : rubk eua 3000!!\n",
      "Offset :  14\n",
      "The decoded message is : avuf zahyr zhfz : svcl fvb 3000!!\n",
      "Offset :  15\n",
      "The decoded message is : bwvg abizs aiga : twdm gwc 3000!!\n",
      "Offset :  16\n",
      "The decoded message is : cxwh bcjat bjhb : uxen hxd 3000!!\n",
      "Offset :  17\n",
      "The decoded message is : dyxi cdkbu ckic : vyfo iye 3000!!\n",
      "Offset :  18\n",
      "The decoded message is : ezyj delcv dljd : wzgp jzf 3000!!\n",
      "Offset :  19\n",
      "The decoded message is : fazk efmdw emke : xahq kag 3000!!\n",
      "Offset :  20\n",
      "The decoded message is : gbal fgnex fnlf : ybir lbh 3000!!\n",
      "Offset :  21\n",
      "The decoded message is : hcbm ghofy gomg : zcjs mci 3000!!\n",
      "Offset :  22\n",
      "The decoded message is : idcn hipgz hpnh : adkt ndj 3000!!\n",
      "Offset :  23\n",
      "The decoded message is : jedo ijqha iqoi : belu oek 3000!!\n",
      "Offset :  24\n",
      "The decoded message is : kfep jkrib jrpj : cfmv pfl 3000!!\n",
      "Offset :  25\n",
      "The decoded message is : lgfq klsjc ksqk : dgnw qgm 3000!!\n"
     ]
    }
   ],
   "source": [
    "message_d = \"mhgr lmtkd ltrl : ehox rhn 3000!!\"\n",
    "\n",
    "for i in range(1,26):\n",
    "    print(\"Offset : \", i)\n",
    "    print(\"The decoded message is :\",decoder(message_d, i))\n",
    "    \n",
    "#Now Find out what an avenger wants to say to you"
   ]
  },
  {
   "cell_type": "markdown",
   "metadata": {},
   "source": [
    "***Yes definitely the encryption techniques also evolved***\n",
    "\n",
    "NEXT NOTEBOOOK WILL DISCUSS ON **VIGENERE CIPHER**\n",
    "\n",
    "*connect and let me know if some suggestions*\n",
    "\n",
    "[Linkedin](https://www.linkedin.com/in/chinmoy-anand-b56a4812b)\n",
    "\n",
    "THANKS!!!!"
   ]
  },
  {
   "cell_type": "code",
   "execution_count": null,
   "metadata": {},
   "outputs": [],
   "source": []
  }
 ],
 "metadata": {
  "kernelspec": {
   "display_name": "Python 3",
   "language": "python",
   "name": "python3"
  },
  "language_info": {
   "codemirror_mode": {
    "name": "ipython",
    "version": 3
   },
   "file_extension": ".py",
   "mimetype": "text/x-python",
   "name": "python",
   "nbconvert_exporter": "python",
   "pygments_lexer": "ipython3",
   "version": "3.7.9"
  }
 },
 "nbformat": 4,
 "nbformat_minor": 4
}
